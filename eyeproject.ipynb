{
 "cells": [
  {
   "cell_type": "code",
   "execution_count": 98,
   "id": "2fb685a2",
   "metadata": {},
   "outputs": [],
   "source": [
    "import numpy as np\n",
    "import pandas as pd\n",
    "import matplotlib.pyplot as plt\n",
    "import torch\n",
    "import torch.nn as nn\n",
    "import torch.nn.functional as F\n",
    "from sklearn.model_selection import train_test_split\n",
    "import tensorflow as tf\n",
    "from sklearn.preprocessing import StandardScaler\n",
    "from torchvision.datasets import ImageFolder\n",
    "import torchvision.transforms as transform\n",
    "import torchvision.datasets as datasets\n",
    "from torch.utils.data import DataLoader, Subset\n",
    "torch.utils.data.Dataset\n",
    "import torchvision\n",
    "import pathlib\n",
    "from torch.optim import Adam\n",
    "import glob\n",
    "from torch.autograd import Variable"
   ]
  },
  {
   "cell_type": "code",
   "execution_count": 99,
   "id": "00add36c",
   "metadata": {},
   "outputs": [],
   "source": [
    "device=torch.device('cuda' if torch.cuda.is_available() else 'cpu')"
   ]
  },
  {
   "cell_type": "code",
   "execution_count": 100,
   "id": "23ffae40",
   "metadata": {},
   "outputs": [
    {
     "data": {
      "text/plain": [
       "device(type='cuda')"
      ]
     },
     "execution_count": 100,
     "metadata": {},
     "output_type": "execute_result"
    }
   ],
   "source": [
    "device"
   ]
  },
  {
   "cell_type": "code",
   "execution_count": 101,
   "id": "684077ad",
   "metadata": {},
   "outputs": [],
   "source": [
    "epochs=5\n",
    "batch_size=5\n",
    "learning_rate=0.001"
   ]
  },
  {
   "cell_type": "code",
   "execution_count": 174,
   "id": "53ed5b8c",
   "metadata": {},
   "outputs": [],
   "source": [
    "transformer=transform.Compose([\n",
    "    transform.Resize((150,150)),\n",
    "    transform.RandomHorizontalFlip(),\n",
    "    transform.ToTensor(),\n",
    "    transform.Normalize([0.5,0.5,0.5],\n",
    "                       [0.5,0.5,0.5])\n",
    "])"
   ]
  },
  {
   "cell_type": "code",
   "execution_count": 175,
   "id": "0a883d72",
   "metadata": {},
   "outputs": [],
   "source": [
    "data_path='C:/Users/paltu/anaconda jp/eye'"
   ]
  },
  {
   "cell_type": "code",
   "execution_count": 176,
   "id": "e33f78a4",
   "metadata": {},
   "outputs": [],
   "source": [
    "dataset=ImageFolder(data_path,transform=transformer)"
   ]
  },
  {
   "cell_type": "code",
   "execution_count": 177,
   "id": "9576a92b",
   "metadata": {},
   "outputs": [],
   "source": [
    "root=pathlib.Path(data_path)\n",
    "classes=sorted([j.name.split('/')[-1] for j in root.iterdir()])"
   ]
  },
  {
   "cell_type": "code",
   "execution_count": 178,
   "id": "700bb3d9",
   "metadata": {},
   "outputs": [
    {
     "data": {
      "text/plain": [
       "['cataract', 'diabetic_retinopathy', 'glaucoma', 'normal']"
      ]
     },
     "execution_count": 178,
     "metadata": {},
     "output_type": "execute_result"
    }
   ],
   "source": [
    "classes"
   ]
  },
  {
   "cell_type": "code",
   "execution_count": 179,
   "id": "2fd3d4df",
   "metadata": {},
   "outputs": [],
   "source": [
    "train_idx=[]\n",
    "test_idx=[]"
   ]
  },
  {
   "cell_type": "code",
   "execution_count": 180,
   "id": "483eaba8",
   "metadata": {},
   "outputs": [],
   "source": [
    "class_indices=dataset.targets\n",
    "cataract_idx=[idx for idx,label in enumerate(class_indices) if label==0]\n",
    "diabetic_idx=[idx for idx,label in enumerate(class_indices) if label==1]\n",
    "glucomia_idx=[idx for idx,label in enumerate(class_indices) if label==2]\n",
    "normal_idx=[idx for idx,label in enumerate(class_indices) if label==3]"
   ]
  },
  {
   "cell_type": "code",
   "execution_count": 181,
   "id": "40cad610",
   "metadata": {},
   "outputs": [
    {
     "name": "stdout",
     "output_type": "stream",
     "text": [
      "4217\n"
     ]
    }
   ],
   "source": [
    "print(len(cataract_idx+diabetic_idx+glucomia_idx+normal_idx))"
   ]
  },
  {
   "cell_type": "code",
   "execution_count": 182,
   "id": "c93b5c28",
   "metadata": {},
   "outputs": [],
   "source": [
    "train_idx.extend(cataract_idx[:int(0.8*len(cataract_idx))])\n",
    "train_idx.extend(diabetic_idx[:int(0.8*len(diabetic_idx))])\n",
    "train_idx.extend(glucomia_idx[:int(0.8*len(glucomia_idx))])\n",
    "train_idx.extend(normal_idx[:int(0.8*len(normal_idx))])"
   ]
  },
  {
   "cell_type": "code",
   "execution_count": 183,
   "id": "cd7ce08b",
   "metadata": {},
   "outputs": [],
   "source": [
    "test_idx.extend(cataract_idx[int(0.8*len(cataract_idx)):])\n",
    "test_idx.extend(diabetic_idx[int(0.8*len(diabetic_idx)):])\n",
    "test_idx.extend(glucomia_idx[int(0.8*len(glucomia_idx)):])\n",
    "test_idx.extend(normal_idx[int(0.8*len(normal_idx)):])"
   ]
  },
  {
   "cell_type": "code",
   "execution_count": 184,
   "id": "173b82a7",
   "metadata": {},
   "outputs": [],
   "source": [
    "train_dataset=Subset(dataset,train_idx)\n",
    "test_dataset=Subset(dataset,test_idx)"
   ]
  },
  {
   "cell_type": "code",
   "execution_count": 185,
   "id": "64884fc3",
   "metadata": {},
   "outputs": [],
   "source": [
    "train_loader=DataLoader(train_dataset,batch_size=16,shuffle=True)\n",
    "test_loader=DataLoader(test_dataset,batch_size=16,shuffle=True)"
   ]
  },
  {
   "cell_type": "code",
   "execution_count": 186,
   "id": "b3022b95",
   "metadata": {},
   "outputs": [
    {
     "data": {
      "text/plain": [
       "3372"
      ]
     },
     "execution_count": 186,
     "metadata": {},
     "output_type": "execute_result"
    }
   ],
   "source": [
    "len(train_dataset)"
   ]
  },
  {
   "cell_type": "code",
   "execution_count": 187,
   "id": "69910bd8",
   "metadata": {},
   "outputs": [
    {
     "data": {
      "text/plain": [
       "845"
      ]
     },
     "execution_count": 187,
     "metadata": {},
     "output_type": "execute_result"
    }
   ],
   "source": [
    "len(test_dataset)"
   ]
  },
  {
   "cell_type": "code",
   "execution_count": 188,
   "id": "d62f71d6",
   "metadata": {
    "scrolled": true
   },
   "outputs": [
    {
     "data": {
      "text/plain": [
       "4217"
      ]
     },
     "execution_count": 188,
     "metadata": {},
     "output_type": "execute_result"
    }
   ],
   "source": [
    "3372+845"
   ]
  },
  {
   "cell_type": "code",
   "execution_count": 189,
   "id": "3085218e",
   "metadata": {},
   "outputs": [],
   "source": [
    "def wt(w,f,p,s):\n",
    "    return ((w-f+2*p)/s)+1"
   ]
  },
  {
   "cell_type": "code",
   "execution_count": 190,
   "id": "e238f0fe",
   "metadata": {},
   "outputs": [
    {
     "data": {
      "text/plain": [
       "75.0"
      ]
     },
     "execution_count": 190,
     "metadata": {},
     "output_type": "execute_result"
    }
   ],
   "source": [
    "wt(75,3,1,1)"
   ]
  },
  {
   "cell_type": "code",
   "execution_count": 191,
   "id": "0efb81d2",
   "metadata": {},
   "outputs": [],
   "source": [
    "class ConvNet(nn.Module):\n",
    "    def __init__(self,num_classes=4):\n",
    "        super(ConvNet,self).__init__()\n",
    "        \n",
    "        self.conv1=nn.Conv2d(in_channels=3,out_channels=12,kernel_size=3,stride=1,padding=1)\n",
    "        self.bn1=nn.BatchNorm2d(num_features=12)\n",
    "        self.relu1=nn.ReLU()\n",
    "        self.pool=nn.MaxPool2d(kernel_size=2)\n",
    "        \n",
    "        self.conv2=nn.Conv2d(in_channels=12,out_channels=20,kernel_size=3,stride=1,padding=1)\n",
    "        self.bn2=nn.BatchNorm2d(num_features=20)\n",
    "        self.relu2=nn.ReLU()\n",
    "        \n",
    "        self.conv3=nn.Conv2d(in_channels=20,out_channels=32,kernel_size=3,stride=1,padding=1)\n",
    "        self.bn3=nn.BatchNorm2d(num_features=32)\n",
    "        self.relu3=nn.ReLU()\n",
    "        \n",
    "        self.fc=nn.Linear(in_features=75*75*32,out_features=num_classes)\n",
    "        \n",
    "    def forward(self,input):\n",
    "        output=self.conv1(input)\n",
    "        output=self.bn1(output)\n",
    "        output=self.relu1(output)\n",
    "        output=self.pool(output)\n",
    "        output=self.conv2(output)\n",
    "        output=self.bn2(output)\n",
    "        output=self.relu2(output)\n",
    "        output=self.conv3(output)\n",
    "        output=self.bn3(output)\n",
    "        output=self.relu3(output)\n",
    "        \n",
    "        \n",
    "        output=output.view(-1,32*75*75)\n",
    "        output=self.fc(output)\n",
    "        \n",
    "        return output\n",
    "        "
   ]
  },
  {
   "cell_type": "code",
   "execution_count": 192,
   "id": "81094e41",
   "metadata": {},
   "outputs": [],
   "source": [
    "model=ConvNet(num_classes=4).to(device)"
   ]
  },
  {
   "cell_type": "code",
   "execution_count": 193,
   "id": "5011eb29",
   "metadata": {},
   "outputs": [],
   "source": [
    "optimizer=Adam(model.parameters(),lr=0.001,weight_decay=0.0001)\n",
    "loss_function=nn.CrossEntropyLoss()"
   ]
  },
  {
   "cell_type": "code",
   "execution_count": 194,
   "id": "d28a3258",
   "metadata": {},
   "outputs": [],
   "source": [
    "num_epochs=30"
   ]
  },
  {
   "cell_type": "code",
   "execution_count": 195,
   "id": "f95d8617",
   "metadata": {},
   "outputs": [],
   "source": [
    "train_count=len(train_dataset)\n",
    "test_count=len(test_dataset)"
   ]
  },
  {
   "cell_type": "code",
   "execution_count": 196,
   "id": "19dda1ce",
   "metadata": {
    "scrolled": true
   },
   "outputs": [
    {
     "data": {
      "text/plain": [
       "4217"
      ]
     },
     "execution_count": 196,
     "metadata": {},
     "output_type": "execute_result"
    }
   ],
   "source": [
    "train_count+test_count"
   ]
  },
  {
   "cell_type": "code",
   "execution_count": 198,
   "id": "27cfe1a8",
   "metadata": {},
   "outputs": [
    {
     "name": "stdout",
     "output_type": "stream",
     "text": [
      "Epoch: 0 Train Loss: tensor(5.2655) Train Accuracy: 0.608540925266904 Test Accuracy: 0.7088757396449704\n",
      "Epoch: 1 Train Loss: tensor(1.4962) Train Accuracy: 0.7161921708185054 Test Accuracy: 0.5775147928994083\n",
      "Epoch: 2 Train Loss: tensor(0.7102) Train Accuracy: 0.7986358244365361 Test Accuracy: 0.6343195266272189\n",
      "Epoch: 3 Train Loss: tensor(0.4466) Train Accuracy: 0.8493475682087782 Test Accuracy: 0.727810650887574\n",
      "Epoch: 4 Train Loss: tensor(0.3996) Train Accuracy: 0.8567615658362989 Test Accuracy: 0.7834319526627219\n",
      "Epoch: 5 Train Loss: tensor(0.3191) Train Accuracy: 0.8819691577698695 Test Accuracy: 0.7834319526627219\n",
      "Epoch: 6 Train Loss: tensor(0.2339) Train Accuracy: 0.9074733096085409 Test Accuracy: 0.7727810650887574\n",
      "Epoch: 7 Train Loss: tensor(0.1760) Train Accuracy: 0.9338671411625148 Test Accuracy: 0.7195266272189349\n",
      "Epoch: 8 Train Loss: tensor(0.1799) Train Accuracy: 0.930011862396204 Test Accuracy: 0.7917159763313609\n",
      "Epoch: 9 Train Loss: tensor(0.1528) Train Accuracy: 0.9374258600237247 Test Accuracy: 0.7881656804733728\n",
      "Epoch: 10 Train Loss: tensor(0.1516) Train Accuracy: 0.9430604982206405 Test Accuracy: 0.7112426035502959\n",
      "Epoch: 11 Train Loss: tensor(0.1356) Train Accuracy: 0.9460260972716489 Test Accuracy: 0.7940828402366864\n",
      "Epoch: 12 Train Loss: tensor(0.1306) Train Accuracy: 0.9534400948991696 Test Accuracy: 0.7917159763313609\n",
      "Epoch: 13 Train Loss: tensor(0.1012) Train Accuracy: 0.9679715302491103 Test Accuracy: 0.7680473372781065\n",
      "Epoch: 14 Train Loss: tensor(0.1075) Train Accuracy: 0.9673784104389087 Test Accuracy: 0.7810650887573964\n",
      "Epoch: 15 Train Loss: tensor(0.1116) Train Accuracy: 0.9584816132858838 Test Accuracy: 0.8094674556213017\n",
      "Epoch: 16 Train Loss: tensor(0.0971) Train Accuracy: 0.9715302491103203 Test Accuracy: 0.7988165680473372\n",
      "Epoch: 17 Train Loss: tensor(0.0637) Train Accuracy: 0.9783511269276394 Test Accuracy: 0.7680473372781065\n",
      "Epoch: 18 Train Loss: tensor(0.0697) Train Accuracy: 0.9753855278766311 Test Accuracy: 0.7751479289940828\n",
      "Epoch: 19 Train Loss: tensor(0.0558) Train Accuracy: 0.980723606168446 Test Accuracy: 0.7905325443786982\n",
      "Epoch: 20 Train Loss: tensor(0.0836) Train Accuracy: 0.9706405693950177 Test Accuracy: 0.7822485207100591\n",
      "Epoch: 21 Train Loss: tensor(0.0446) Train Accuracy: 0.9857651245551602 Test Accuracy: 0.778698224852071\n",
      "Epoch: 22 Train Loss: tensor(0.0576) Train Accuracy: 0.9836892052194544 Test Accuracy: 0.7928994082840237\n",
      "Epoch: 23 Train Loss: tensor(0.0536) Train Accuracy: 0.984282325029656 Test Accuracy: 0.7881656804733728\n",
      "Epoch: 24 Train Loss: tensor(0.0673) Train Accuracy: 0.9810201660735468 Test Accuracy: 0.7727810650887574\n",
      "Epoch: 25 Train Loss: tensor(0.0379) Train Accuracy: 0.9878410438908659 Test Accuracy: 0.778698224852071\n",
      "Epoch: 26 Train Loss: tensor(0.1238) Train Accuracy: 0.9638196915776986 Test Accuracy: 0.7609467455621302\n",
      "Epoch: 27 Train Loss: tensor(0.0632) Train Accuracy: 0.977164887307236 Test Accuracy: 0.7242603550295857\n",
      "Epoch: 28 Train Loss: tensor(0.0568) Train Accuracy: 0.9833926453143536 Test Accuracy: 0.7751479289940828\n",
      "Epoch: 29 Train Loss: tensor(0.0404) Train Accuracy: 0.9878410438908659 Test Accuracy: 0.7585798816568048\n"
     ]
    }
   ],
   "source": [
    "#Model training and saving best model\n",
    "\n",
    "best_accuracy=0.0\n",
    "\n",
    "for epoch in range(num_epochs):\n",
    "    \n",
    "    #Evaluation and training on training dataset\n",
    "    model.train()\n",
    "    train_accuracy=0.0\n",
    "    train_loss=0.0\n",
    "    \n",
    "    for images,labels in train_loader:\n",
    "        if torch.cuda.is_available():\n",
    "            images=Variable(images.cuda())\n",
    "            labels=Variable(labels.cuda())\n",
    "            \n",
    "        optimizer.zero_grad()\n",
    "        \n",
    "        outputs=model(images)\n",
    "        loss=loss_function(outputs,labels)\n",
    "        loss.backward()\n",
    "        optimizer.step()\n",
    "        \n",
    "        \n",
    "        train_loss+= loss.cpu().data*images.size(0)\n",
    "        _,prediction=torch.max(outputs.data,1)\n",
    "        \n",
    "        train_accuracy+=int(torch.sum(prediction==labels.data))\n",
    "        \n",
    "    train_accuracy=train_accuracy/train_count\n",
    "    train_loss=train_loss/train_count\n",
    "    \n",
    "    \n",
    "    # Evaluation on testing dataset\n",
    "    model.eval()\n",
    "    \n",
    "    test_accuracy=0.0\n",
    "    for i, (images,labels) in enumerate(test_loader):\n",
    "        if torch.cuda.is_available():\n",
    "            images=Variable(images.cuda())\n",
    "            labels=Variable(labels.cuda())\n",
    "            \n",
    "        outputs=model(images)\n",
    "        _,prediction=torch.max(outputs.data,1)\n",
    "        test_accuracy+=int(torch.sum(prediction==labels.data))\n",
    "    \n",
    "    test_accuracy=test_accuracy/test_count\n",
    "    \n",
    "    \n",
    "    print('Epoch: '+str(epoch)+' Train Loss: '+str(train_loss)+' Train Accuracy: '+str(train_accuracy)+' Test Accuracy: '+str(test_accuracy))\n",
    "    \n",
    "    #Save the best model\n",
    "    if test_accuracy>best_accuracy:\n",
    "        torch.save(model.state_dict(),'best_checkpoint4.model')\n",
    "        best_accuracy=test_accuracy\n"
   ]
  },
  {
   "cell_type": "code",
   "execution_count": 197,
   "id": "d3b88ec0",
   "metadata": {},
   "outputs": [
    {
     "ename": "AttributeError",
     "evalue": "'int' object has no attribute 'to'",
     "output_type": "error",
     "traceback": [
      "\u001b[1;31m---------------------------------------------------------------------------\u001b[0m",
      "\u001b[1;31mAttributeError\u001b[0m                            Traceback (most recent call last)",
      "Cell \u001b[1;32mIn[197], line 14\u001b[0m\n\u001b[0;32m     12\u001b[0m \u001b[38;5;28;01mfor\u001b[39;00m images,labels \u001b[38;5;129;01min\u001b[39;00m \u001b[38;5;28menumerate\u001b[39m(train_loader):\n\u001b[0;32m     13\u001b[0m     \u001b[38;5;28;01mif\u001b[39;00m torch\u001b[38;5;241m.\u001b[39mcuda\u001b[38;5;241m.\u001b[39mis_available():\n\u001b[1;32m---> 14\u001b[0m         images \u001b[38;5;241m=\u001b[39m \u001b[43mimages\u001b[49m\u001b[38;5;241;43m.\u001b[39;49m\u001b[43mto\u001b[49m(device)\n\u001b[0;32m     15\u001b[0m         labels \u001b[38;5;241m=\u001b[39m labels\u001b[38;5;241m.\u001b[39mto(device)\n\u001b[0;32m     17\u001b[0m     optimizer\u001b[38;5;241m.\u001b[39mzero_grad()\n",
      "\u001b[1;31mAttributeError\u001b[0m: 'int' object has no attribute 'to'"
     ]
    }
   ],
   "source": [
    "#Model training and saving best model\n",
    "\n",
    "best_accuracy=0.0\n",
    "\n",
    "for epoch in range(num_epochs):\n",
    "    \n",
    "    #Evaluation and training on training dataset\n",
    "    model.train()\n",
    "    train_accuracy=0.0\n",
    "    train_loss=0.0\n",
    "    \n",
    "    for images,labels in train_loader:\n",
    "        if torch.cuda.is_available():\n",
    "            images = images.to(device)\n",
    "            labels = labels.to(device)\n",
    "            \n",
    "        optimizer.zero_grad()\n",
    "        \n",
    "        outputs=model(images)\n",
    "        loss=loss_function(outputs,labels)\n",
    "        loss.backward()\n",
    "        optimizer.step()\n",
    "        \n",
    "        \n",
    "        train_loss+= loss.cpu().data*images.size(0)\n",
    "        _,prediction=torch.max(outputs.data,1)\n",
    "        \n",
    "        train_accuracy+=int(torch.sum(prediction==labels.data))\n",
    "        \n",
    "    train_accuracy=train_accuracy/train_count\n",
    "    train_loss=train_loss/train_count\n",
    "    \n",
    "    \n",
    "    # Evaluation on testing dataset\n",
    "    model.eval()\n",
    "    \n",
    "    test_accuracy=0.0\n",
    "    for i, (images,labels) in enumerate(test_loader):\n",
    "        if torch.cuda.is_available():\n",
    "            images=Variable(images.cuda())\n",
    "            labels=Variable(labels.cuda())\n",
    "            \n",
    "        outputs=model(images)\n",
    "        _,prediction=torch.max(outputs.data,1)\n",
    "        test_accuracy+=int(torch.sum(prediction==labels.data))\n",
    "    \n",
    "    test_accuracy=test_accuracy/test_count\n",
    "    \n",
    "    \n",
    "    print('Epoch: '+str(epoch)+' Train Loss: '+str(train_loss)+' Train Accuracy: '+str(train_accuracy)+' Test Accuracy: '+str(test_accuracy))\n",
    "    \n",
    "    #Save the best model\n",
    "    if test_accuracy>best_accuracy:\n",
    "        torch.save(model.state_dict(),'best_checkpoint4.model')\n",
    "        best_accuracy=test_accuracy\n"
   ]
  },
  {
   "cell_type": "code",
   "execution_count": null,
   "id": "938ed402",
   "metadata": {},
   "outputs": [],
   "source": []
  }
 ],
 "metadata": {
  "kernelspec": {
   "display_name": "Python 3 (ipykernel)",
   "language": "python",
   "name": "python3"
  },
  "language_info": {
   "codemirror_mode": {
    "name": "ipython",
    "version": 3
   },
   "file_extension": ".py",
   "mimetype": "text/x-python",
   "name": "python",
   "nbconvert_exporter": "python",
   "pygments_lexer": "ipython3",
   "version": "3.7.6"
  }
 },
 "nbformat": 4,
 "nbformat_minor": 5
}
